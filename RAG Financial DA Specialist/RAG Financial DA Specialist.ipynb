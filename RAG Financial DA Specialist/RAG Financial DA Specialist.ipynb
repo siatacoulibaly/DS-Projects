{
 "cells": [
  {
   "cell_type": "code",
   "execution_count": null,
   "id": "f3950c70-5bdc-48d6-bc85-3df073fa2307",
   "metadata": {},
   "outputs": [],
   "source": [
    "import pandas as pd\n",
    "import numpy as np\n",
    "import os\n",
    "import ast\n",
    "import pdb\n",
    "from openai import OpenAI\n",
    "import PyPDF2\n",
    "from pathlib import Path\n",
    "import pytesseract\n",
    "from pdf2image import convert_from_path\n"
   ]
  },
  {
   "cell_type": "code",
   "execution_count": 2,
   "id": "62d9bd8d",
   "metadata": {},
   "outputs": [],
   "source": [
    "# Explicitly set the path to the Tesseract executable\n",
    "pytesseract.pytesseract.tesseract_cmd = r'C:\\Program Files\\Tesseract-OCR\\tesseract.exe'\n"
   ]
  },
  {
   "cell_type": "code",
   "execution_count": null,
   "id": "4fcf7554-0f1c-45d4-8f28-9329b5ca3e4f",
   "metadata": {},
   "outputs": [],
   "source": [
    "openai_api_key = ${{DS-Env.OpenAI_API_Key}}\n",
    "client = OpenAI(api_key=openai_api_key)"
   ]
  },
  {
   "cell_type": "code",
   "execution_count": 102,
   "id": "b1ff4a49-a2ae-4dd9-92d9-e988323d8f55",
   "metadata": {},
   "outputs": [],
   "source": [
    "question = input(\"How can I help you today?\")"
   ]
  },
  {
   "cell_type": "code",
   "execution_count": 22,
   "id": "1e6e2af1-6b77-4563-8a97-b6750ed749c1",
   "metadata": {},
   "outputs": [],
   "source": [
    "folder = \"./Documentation\"\n",
    "documentation = []\n",
    "filenames = []\n",
    "\n",
    "def extract_text_from_pdf(pdf_path):\n",
    "    \"\"\"\n",
    "    Extracts text from a PDF, falling back to OCR if a page contains no extractable text.\n",
    "    \"\"\"\n",
    "    all_text = []\n",
    "    try:\n",
    "        # First, try to extract text directly using PyPDF2\n",
    "        with open(pdf_path, \"rb\") as file:\n",
    "            reader = PyPDF2.PdfReader(file)\n",
    "            for page in reader.pages:\n",
    "                text = page.extract_text()\n",
    "                if text and len(text.strip()) > 50: # Check if there is a meaningful amount of text\n",
    "                    all_text.append(text)\n",
    "                else:\n",
    "                    # Convert PDF pages to a list of Pillow images\n",
    "                    images = convert_from_path(pdf_path)\n",
    "                    for page_image in images:\n",
    "                        # Use pytesseract to extract text from each image\n",
    "                        page_text = pytesseract.image_to_string(page_image)\n",
    "                        all_text.append(page_text)\n",
    "    except Exception as e:\n",
    "        print(f\"Error processing {pdf_path}: {e}\")\n",
    "        return \"Text extraction failed\"\n",
    "\n",
    "    return all_text\n",
    "\n",
    "for file in Path(folder).glob(\"*-1*.pdf\"):\n",
    "    documentation.append(extract_text_from_pdf(file))\n",
    "    filenames.append(file.name)\n"
   ]
  },
  {
   "cell_type": "code",
   "execution_count": 69,
   "id": "2068a4d8-6105-4700-8b68-6699b6421684",
   "metadata": {},
   "outputs": [],
   "source": [
    "#document_lines = [lambda x : x.str.split('\\n') for x in documentation[0]]\n",
    "dataf = pd.DataFrame({'text' : documentation, 'filename' : filenames})"
   ]
  },
  {
   "cell_type": "code",
   "execution_count": null,
   "id": "31e366da-9716-41e3-8353-1c3233fadfe0",
   "metadata": {},
   "outputs": [],
   "source": [
    "# Split the text by newline and explode the DataFrame\n",
    "data_spl = pd.DataFrame(dataf)\n",
    "data_spl = data_spl.explode('text').reset_index(drop=True)\n",
    "\n",
    "# Clean up any empty rows that may have resulted from the split\n",
    "data_spl['text'] = data_spl['text'].str.strip()\n"
   ]
  },
  {
   "cell_type": "code",
   "execution_count": null,
   "id": "d8afc46a",
   "metadata": {},
   "outputs": [],
   "source": [
    "data_used = pd.DataFrame(data_spl[50:100])"
   ]
  },
  {
   "cell_type": "code",
   "execution_count": 96,
   "id": "c9c31481-f3c5-4606-9599-818a2c28051e",
   "metadata": {},
   "outputs": [],
   "source": [
    "def get_embeddings(support_doc, model = \"text-embedding-3-small\"):\n",
    "    support_doc = support_doc.replace(\"\\n\", \" \")\n",
    "    return client.embeddings.create(input = support_doc, model = model).data[0].embedding\n",
    "    "
   ]
  },
  {
   "cell_type": "code",
   "execution_count": 99,
   "id": "b6bd4a1f-324d-448f-ba2d-013cbb3fc988",
   "metadata": {},
   "outputs": [],
   "source": [
    "data_used['embeddings'] = data_used['text'].apply(get_embeddings)"
   ]
  },
  {
   "cell_type": "code",
   "execution_count": 104,
   "id": "815605c6",
   "metadata": {},
   "outputs": [],
   "source": [
    "question_embedding = get_embeddings(question)"
   ]
  },
  {
   "cell_type": "code",
   "execution_count": 107,
   "id": "93312383",
   "metadata": {},
   "outputs": [],
   "source": [
    "def fn(doc_embeddings):\n",
    "    distance = np.dot(doc_embeddings, question_embedding)\n",
    "    return distance\n",
    "\n",
    "data_used['distance'] = data_used[\"embeddings\"].apply(fn)"
   ]
  },
  {
   "cell_type": "code",
   "execution_count": 110,
   "id": "11169479",
   "metadata": {},
   "outputs": [],
   "source": [
    "data_used.sort_values('distance', ascending=False, inplace=True)\n",
    "context = data_used.iloc[0:5]"
   ]
  },
  {
   "cell_type": "code",
   "execution_count": 114,
   "id": "aa00a12a-ac12-4e41-a56b-14ec14feef97",
   "metadata": {},
   "outputs": [],
   "source": [
    "response = client.chat.completions.create(\n",
    "    model=\"gpt-3.5-turbo\",\n",
    "    messages=[{\"role\" : \"system\", \"content\" : \"You are a financial data analysis expert who are answering a third year mathematics student. Answer with supporting explanations.\"},\n",
    "             {\"role\" : \"assistant\", \"content\" : f\"Use this information from the Financial Data Analysis class as context to answer the user question: {context}. Please, stick to this context when answering the question.\"},\n",
    "             {\"role\" : \"user\", \"content\" : question}]\n",
    ")"
   ]
  },
  {
   "cell_type": "code",
   "execution_count": 115,
   "id": "f6cb7a24-f3fa-4077-87f2-db0e52151c9d",
   "metadata": {},
   "outputs": [],
   "source": [
    "final_response = response.choices[0].message.content"
   ]
  },
  {
   "cell_type": "code",
   "execution_count": 145,
   "id": "0ed02231-aabd-4b5d-8892-86385e35aa3c",
   "metadata": {},
   "outputs": [],
   "source": [
    "def query():\n",
    "\n",
    "    while(True):\n",
    "        question = input(\"How Can I help you? Type 'Quit' to exit the query.\")\n",
    "\n",
    "\n",
    "        if(question.lower() != \"quit\"):\n",
    "            question_embedding = get_embeddings(question)\n",
    "            data_used['distance'] = data_used[\"embeddings\"].apply(fn)\n",
    "            data_used.sort_values('distance', ascending=False, inplace=True)\n",
    "            top_five_distance = data_used.iloc[0:5]\n",
    "            top_text = top_five_distance['text']\n",
    "            context = \"\\n\\n\".join(top_text)\n",
    "\n",
    "            response = client.chat.completions.create(\n",
    "            model = \"gpt-3.5-turbo\",\n",
    "            messages=[{\"role\" : \"system\", \"content\" : \"You are a financial data analysis expert who are answering a third year mathematics student. Answer with supporting explanations.\"},\n",
    "                    {\"role\" : \"assistant\", \"content\" : f\"Use this information from the Financial Data Analysis class as context to answer the user question: {context}. Please, stick to this context when answering the question.\"},\n",
    "                    {\"role\" : \"user\", \"content\" : question}]\n",
    "            )\n",
    "\n",
    "            final_response = response.choices[0].message.content\n",
    "            print(question + '\\n\\n' + final_response + '\\n')\n",
    "            print('-' * 100 + '\\n')\n",
    "        \n",
    "        else:\n",
    "            break"
   ]
  },
  {
   "cell_type": "code",
   "execution_count": null,
   "id": "813a8848-18cc-4d28-a8ac-aa0dde6a18d0",
   "metadata": {},
   "outputs": [],
   "source": [
    "query()"
   ]
  }
 ],
 "metadata": {
  "kernelspec": {
   "display_name": "Python 3",
   "language": "python",
   "name": "python3"
  },
  "language_info": {
   "codemirror_mode": {
    "name": "ipython",
    "version": 3
   },
   "file_extension": ".py",
   "mimetype": "text/x-python",
   "name": "python",
   "nbconvert_exporter": "python",
   "pygments_lexer": "ipython3",
   "version": "3.13.5"
  }
 },
 "nbformat": 4,
 "nbformat_minor": 5
}
